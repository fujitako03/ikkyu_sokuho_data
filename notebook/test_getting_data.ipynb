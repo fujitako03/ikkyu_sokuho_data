{
 "metadata": {
  "language_info": {
   "codemirror_mode": {
    "name": "ipython",
    "version": 3
   },
   "file_extension": ".py",
   "mimetype": "text/x-python",
   "name": "python",
   "nbconvert_exporter": "python",
   "pygments_lexer": "ipython3",
   "version": "3.8.3-final"
  },
  "orig_nbformat": 2,
  "kernelspec": {
   "name": "python3",
   "display_name": "Python 3",
   "language": "python"
  }
 },
 "nbformat": 4,
 "nbformat_minor": 2,
 "cells": [
  {
   "cell_type": "code",
   "execution_count": 22,
   "metadata": {},
   "outputs": [],
   "source": [
    "import time \n",
    "import requests, bs4\n",
    "import re\n",
    "import sys\n",
    "import os\n",
    "\n",
    "import pandas as pd\n",
    "import numpy as np\n",
    "\n",
    "sys.path.append(\"../\")\n",
    "from src.scraping import ScrapingSponavi\n",
    "\n",
    "%matplotlib inline\n",
    "# %load_ext autoreload\n",
    "%reload_ext autoreload\n",
    "%autoreload 2"
   ]
  },
  {
   "cell_type": "code",
   "execution_count": 13,
   "metadata": {},
   "outputs": [],
   "source": [
    "ss = ScrapingSponavi()"
   ]
  },
  {
   "cell_type": "code",
   "execution_count": 14,
   "metadata": {},
   "outputs": [],
   "source": [
    "url_schedule_base = \"https://baseball.yahoo.co.jp/npb/schedule/\""
   ]
  },
  {
   "cell_type": "code",
   "execution_count": 31,
   "metadata": {
    "tags": []
   },
   "outputs": [
    {
     "output_type": "stream",
     "name": "stdout",
     "text": [
      "start  2020-03-21 ==========\n",
      "get html  https://baseball.yahoo.co.jp/npb/schedule/?date=2020-03-21\n",
      "success\n",
      "there are  2 games\n",
      "get html  https://baseball.yahoo.co.jp/npb/game/2021000011/top\n",
      "success\n",
      "get html  https://baseball.yahoo.co.jp/npb/game/2021000012/top\n",
      "success\n"
     ]
    }
   ],
   "source": [
    "date = \"2020-03-21\"\n",
    "out_dir = os.path.join(\"..\", \"data\", \"html\", \"games\")\n",
    "ss.get_geme_htmls(date, out_dir)"
   ]
  },
  {
   "cell_type": "code",
   "execution_count": null,
   "metadata": {},
   "outputs": [],
   "source": [
    "\"../data/\""
   ]
  },
  {
   "cell_type": "code",
   "execution_count": null,
   "metadata": {},
   "outputs": [],
   "source": [
    "url_schedule_day = 'https://baseball.yahoo.co.jp/npb/schedule/"
   ]
  },
  {
   "cell_type": "code",
   "execution_count": 20,
   "metadata": {},
   "outputs": [
    {
     "output_type": "stream",
     "name": "stdout",
     "text": [
      "2021000011\n"
     ]
    }
   ],
   "source": [
    "import re\n",
    "\n",
    "content = \"https://baseball.yahoo.co.jp/npb/game/2021000011/index\"\n",
    "result = re.search(\"\\d+\", content)\n",
    "if result:\n",
    "    print(result.group())"
   ]
  },
  {
   "cell_type": "code",
   "execution_count": 8,
   "metadata": {},
   "outputs": [
    {
     "output_type": "error",
     "ename": "NameError",
     "evalue": "name 'url' is not defined",
     "traceback": [
      "\u001b[0;31m---------------------------------------------------------------------------\u001b[0m",
      "\u001b[0;31mNameError\u001b[0m                                 Traceback (most recent call last)",
      "\u001b[0;32m<ipython-input-8-a65081141ea0>\u001b[0m in \u001b[0;36m<module>\u001b[0;34m\u001b[0m\n\u001b[0;32m----> 1\u001b[0;31m \u001b[0mprint\u001b[0m\u001b[0;34m(\u001b[0m\u001b[0murl\u001b[0m\u001b[0;34m)\u001b[0m\u001b[0;34m\u001b[0m\u001b[0;34m\u001b[0m\u001b[0m\n\u001b[0m\u001b[1;32m      2\u001b[0m \u001b[0mindex\u001b[0m \u001b[0;34m=\u001b[0m \u001b[0mre\u001b[0m\u001b[0;34m.\u001b[0m\u001b[0msearch\u001b[0m\u001b[0;34m(\u001b[0m\u001b[0;34mr'index=\\d+'\u001b[0m\u001b[0;34m,\u001b[0m \u001b[0murl\u001b[0m\u001b[0;34m)\u001b[0m\u001b[0;34m\u001b[0m\u001b[0;34m\u001b[0m\u001b[0m\n\u001b[1;32m      3\u001b[0m \u001b[0mres\u001b[0m \u001b[0;34m=\u001b[0m \u001b[0mrequests\u001b[0m\u001b[0;34m.\u001b[0m\u001b[0mget\u001b[0m\u001b[0;34m(\u001b[0m\u001b[0murl\u001b[0m\u001b[0;34m)\u001b[0m\u001b[0;34m\u001b[0m\u001b[0;34m\u001b[0m\u001b[0m\n\u001b[1;32m      4\u001b[0m \u001b[0;34m\u001b[0m\u001b[0m\n\u001b[1;32m      5\u001b[0m \u001b[0;32mtry\u001b[0m\u001b[0;34m:\u001b[0m\u001b[0;34m\u001b[0m\u001b[0;34m\u001b[0m\u001b[0m\n",
      "\u001b[0;31mNameError\u001b[0m: name 'url' is not defined"
     ]
    }
   ],
   "source": [
    "print(url)\n",
    "index = re.search(r'index=\\d+', url)\n",
    "res = requests.get(url)\n",
    "\n",
    "try:\n",
    "    res.raise_for_status() \n",
    "except requests.exceptions.RequestException:\n",
    "    print('Not Found Error in {}'.format(index.group())) #Not Foundエラーが出たらその回は終わったとみなす\n",
    "    #break\n",
    "\n",
    "soup = bs4.BeautifulSoup(res.text, \"html.parser\")\n",
    "elems = soup.select('.bb-calendarTable__status')\n",
    "elems2 = soup.select('.bb-calendarTable__venue')\n",
    "\n",
    "#print(elems)\n",
    "for elem,elem2 in zip(elems,elems2):\n",
    "    url = elem.get('href')\n",
    "    date = url[38:46]\n",
    "    venue = elem2.text\n",
    "    #print(venue)\n",
    "    game_yokohama.loc[len(game_yokohama)] = [url,date,venue]\n",
    "time.sleep(1)"
   ]
  }
 ]
}