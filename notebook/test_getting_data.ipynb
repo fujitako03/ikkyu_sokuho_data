{
 "metadata": {
  "language_info": {
   "codemirror_mode": {
    "name": "ipython",
    "version": 3
   },
   "file_extension": ".py",
   "mimetype": "text/x-python",
   "name": "python",
   "nbconvert_exporter": "python",
   "pygments_lexer": "ipython3",
   "version": "3.8.3-final"
  },
  "orig_nbformat": 2,
  "kernelspec": {
   "name": "python3",
   "display_name": "Python 3.8.3 64-bit ('.venv')",
   "metadata": {
    "interpreter": {
     "hash": "dd3d9cee6c30ce8ea8b9c62ad8be8613e9cf6f44dc6c9e171712c2d0003c7fc1"
    }
   }
  }
 },
 "nbformat": 4,
 "nbformat_minor": 2,
 "cells": [
  {
   "cell_type": "code",
   "execution_count": 30,
   "metadata": {},
   "outputs": [],
   "source": [
    "import time \n",
    "import requests, bs4\n",
    "import re\n",
    "import sys\n",
    "import os\n",
    "import datetime\n",
    "from urllib.parse import urlparse\n",
    "\n",
    "import pandas as pd\n",
    "import numpy as np\n",
    "from omegaconf import OmegaConf\n",
    "\n",
    "sys.path.append(\"../\")\n",
    "from src.scraping import ScrapingBase, ScrapingSponavi\n",
    "\n",
    "%matplotlib inline\n",
    "# %load_ext autoreload\n",
    "%reload_ext autoreload\n",
    "%autoreload 2\n",
    "\n",
    "# 出力先\n",
    "conf_dir = \"../config\"\n",
    "conf_cli = OmegaConf.from_cli()\n",
    "conf_exec = OmegaConf.load(os.path.join(conf_dir, \"config_exec.yaml\"))\n",
    "conf_path = OmegaConf.load(os.path.join(conf_dir, \"config_path.yaml\"))\n",
    "conf_url = OmegaConf.load(os.path.join(conf_dir, \"config_url.yaml\"))\n",
    "conf_team = OmegaConf.load(os.path.join(conf_dir, \"config_team.yaml\"))\n",
    "config = OmegaConf.merge(conf_cli, conf_exec, conf_path, conf_url, conf_team)"
   ]
  },
  {
   "cell_type": "code",
   "execution_count": 60,
   "metadata": {},
   "outputs": [],
   "source": [
    "ss = ScrapingSponavi(config=config,start_date=\"2021-03-21\", end_date=\"2021-03-21\")"
   ]
  },
  {
   "cell_type": "code",
   "execution_count": 63,
   "metadata": {},
   "outputs": [],
   "source": [
    "url = \"https://baseball.yahoo.co.jp/npb/game/2021000092/top\""
   ]
  },
  {
   "cell_type": "code",
   "execution_count": 64,
   "metadata": {
    "tags": []
   },
   "outputs": [
    {
     "output_type": "stream",
     "name": "stdout",
     "text": [
      "get html  https://baseball.yahoo.co.jp/npb/game/2021000092/top\n",
      "success\n"
     ]
    }
   ],
   "source": [
    "html = ss.get_html(url)"
   ]
  },
  {
   "cell_type": "code",
   "execution_count": 93,
   "metadata": {},
   "outputs": [
    {
     "output_type": "execute_result",
     "data": {
      "text/plain": [
       "{'game_id': 'npb2021000092',\n",
       " 'game_date': '2021-03-21',\n",
       " 'status': 'finish',\n",
       " 'team_top_name': '日本ハム',\n",
       " 'start_time': '13:00',\n",
       " 'team_bottom_name': '中日',\n",
       " 'team_top_id': 'npb8',\n",
       " 'team_bottom_id': 'npb4',\n",
       " 'score_top': '2',\n",
       " 'score_bottom': '9',\n",
       " 'hit_top': '4',\n",
       " 'hit_bottom': '16',\n",
       " 'error_top': '2',\n",
       " 'error_bottom': '1',\n",
       " 'picher_win_id': 'npb1500074',\n",
       " 'picher_lose_id': 'npb1700029',\n",
       " 'picher_save_id': nan,\n",
       " 'umpire_plate': '山本貴',\n",
       " 'umpire_first': '津川',\n",
       " 'umpire_second': '川口',\n",
       " 'umpire_third': '原',\n",
       " 'audience': '9,946人',\n",
       " 'game_time': '3時間11分'}"
      ]
     },
     "metadata": {},
     "execution_count": 93
    }
   ],
   "source": [
    "soup = bs4.BeautifulSoup(html, \"html.parser\")\n",
    "\n",
    "# 結果を格納する辞書\n",
    "result = {}\n",
    "\n",
    "# ゲームID\n",
    "result[\"game_id\"] = \"npb\" + url.split(\"/\")[-2]\n",
    "\n",
    "# 日付\n",
    "game_date = soup.select_one(\"title\").get_text().split(\" \")[0]\n",
    "result[\"game_date\"] = datetime.datetime.strptime(game_date, \"%Y年%m月%d日\").strftime(\"%Y-%m-%d\")\n",
    "\n",
    "# ステータス\n",
    "state_original = soup.select_one('span.bb-gameCard__state').get_text(strip=True)\n",
    "if state_original==\"試合終了\":\n",
    "    result[\"status\"] = \"finish\"\n",
    "elif state_original == \"試合中止\":\n",
    "    result[\"status\"] = \"cancel\"\n",
    "elif state_original == \"試合前\":\n",
    "    result[\"status\"] = \"before\"\n",
    "else:\n",
    "    result[\"status\"] = \"unkown\"\n",
    "\n",
    "# 球場\n",
    "description = soup.select_one(\"p[class='bb-gameDescription']\")\n",
    "result[\"team_top_name\"] = description.get_text().split(\"\\n\")[3].replace(\" \",\"\")\n",
    "\n",
    "# 試合開始時間\n",
    "description = soup.select_one(\"p[class='bb-gameDescription']\")\n",
    "result[\"start_time\"] = description.get_text().split(\"\\n\")[2].replace(\" \",\"\")\n",
    "\n",
    "# チーム名\n",
    "teams = [x.get_text(strip=True) for x in soup.select(\"a.bb-gameScoreTable__team\")]\n",
    "result[\"team_top_name\"] = teams[0]\n",
    "result[\"team_bottom_name\"] = teams[1]\n",
    "result[\"team_top_id\"] = config.team[teams[0]].team_id\n",
    "result[\"team_bottom_id\"] = config.team[teams[1]].team_id\n",
    "\n",
    "# 合計点\n",
    "scores = [x.get_text(strip=True) for x in soup.select(\"td[class='bb-gameScoreTable__total']\")]\n",
    "result[\"score_top\"] = scores[0]\n",
    "result[\"score_bottom\"] = scores[1]\n",
    "\n",
    "# 安打数\n",
    "hits = [x.get_text(strip=True) for x in soup.select(\"td[class='bb-gameScoreTable__total bb-gameScoreTable__data--hits']\")]\n",
    "result[\"hit_top\"] = hits[0]\n",
    "result[\"hit_bottom\"] = hits[1]\n",
    "\n",
    "# 失策数\n",
    "hits = [x.get_text(strip=True) for x in soup.select(\"td[class='bb-gameScoreTable__total bb-gameScoreTable__data--loss']\")]\n",
    "result[\"error_top\"] = hits[0]\n",
    "result[\"error_bottom\"] = hits[1]\n",
    "\n",
    "# 責任投手\n",
    "soup_pick = soup.select_one(\"section[id='pit_rec']\")\n",
    "pitchers = [x for x in soup_pick.select(\"td.bb-gameTable__data\")]\n",
    "list_pitcher_ids = []\n",
    "for pitcher in pitchers:\n",
    "    if pitcher.get_text(strip=True) != \"\":\n",
    "        pitcher_url = pitcher.select_one(\"a[class='bb-gameTable__player']\")\n",
    "        list_pitcher_ids.append(ss.get_id(pitcher_url.get(\"href\").split(\"/\")[-2]))\n",
    "    else:\n",
    "        list_pitcher_ids.append(np.nan)\n",
    "result[\"picher_win_id\"] = list_pitcher_ids[0]\n",
    "result[\"picher_lose_id\"] = list_pitcher_ids[1]\n",
    "result[\"picher_save_id\"] = list_pitcher_ids[2]\n",
    "\n",
    "# 審判\n",
    "soup_pick = soup.select(\"section[class='bb-modCommon01']\")[-2]\n",
    "data = [x.get_text(strip=True) for x in soup_pick.select(\"td.bb-tableLeft__data\")]\n",
    "result[\"umpire_plate\"] = data[0]\n",
    "result[\"umpire_first\"] = data[1]\n",
    "result[\"umpire_second\"] = data[2]\n",
    "result[\"umpire_third\"] = data[3]\n",
    "\n",
    "# 観客数/試合時間\n",
    "soup_pick = soup.select(\"section[class='bb-modCommon01']\")[-1]\n",
    "data = [x.get_text(strip=True) for x in soup_pick.select(\"td.bb-tableLeft__data\")]\n",
    "result[\"audience\"] = data[0]\n",
    "result[\"game_time\"] = data[1]\n",
    "\n",
    "\n",
    "result"
   ]
  },
  {
   "cell_type": "code",
   "execution_count": null,
   "metadata": {},
   "outputs": [],
   "source": [
    "url_schedule_day = 'https://baseball.yahoo.co.jp/npb/schedule/"
   ]
  },
  {
   "cell_type": "code",
   "execution_count": 20,
   "metadata": {},
   "outputs": [
    {
     "output_type": "stream",
     "name": "stdout",
     "text": [
      "2021000011\n"
     ]
    }
   ],
   "source": [
    "import re\n",
    "\n",
    "content = \"https://baseball.yahoo.co.jp/npb/game/2021000011/index\"\n",
    "result = re.search(\"\\d+\", content)\n",
    "if result:\n",
    "    print(result.group())"
   ]
  },
  {
   "cell_type": "code",
   "execution_count": 8,
   "metadata": {},
   "outputs": [
    {
     "output_type": "error",
     "ename": "NameError",
     "evalue": "name 'url' is not defined",
     "traceback": [
      "\u001b[0;31m---------------------------------------------------------------------------\u001b[0m",
      "\u001b[0;31mNameError\u001b[0m                                 Traceback (most recent call last)",
      "\u001b[0;32m<ipython-input-8-a65081141ea0>\u001b[0m in \u001b[0;36m<module>\u001b[0;34m\u001b[0m\n\u001b[0;32m----> 1\u001b[0;31m \u001b[0mprint\u001b[0m\u001b[0;34m(\u001b[0m\u001b[0murl\u001b[0m\u001b[0;34m)\u001b[0m\u001b[0;34m\u001b[0m\u001b[0;34m\u001b[0m\u001b[0m\n\u001b[0m\u001b[1;32m      2\u001b[0m \u001b[0mindex\u001b[0m \u001b[0;34m=\u001b[0m \u001b[0mre\u001b[0m\u001b[0;34m.\u001b[0m\u001b[0msearch\u001b[0m\u001b[0;34m(\u001b[0m\u001b[0;34mr'index=\\d+'\u001b[0m\u001b[0;34m,\u001b[0m \u001b[0murl\u001b[0m\u001b[0;34m)\u001b[0m\u001b[0;34m\u001b[0m\u001b[0;34m\u001b[0m\u001b[0m\n\u001b[1;32m      3\u001b[0m \u001b[0mres\u001b[0m \u001b[0;34m=\u001b[0m \u001b[0mrequests\u001b[0m\u001b[0;34m.\u001b[0m\u001b[0mget\u001b[0m\u001b[0;34m(\u001b[0m\u001b[0murl\u001b[0m\u001b[0;34m)\u001b[0m\u001b[0;34m\u001b[0m\u001b[0;34m\u001b[0m\u001b[0m\n\u001b[1;32m      4\u001b[0m \u001b[0;34m\u001b[0m\u001b[0m\n\u001b[1;32m      5\u001b[0m \u001b[0;32mtry\u001b[0m\u001b[0;34m:\u001b[0m\u001b[0;34m\u001b[0m\u001b[0;34m\u001b[0m\u001b[0m\n",
      "\u001b[0;31mNameError\u001b[0m: name 'url' is not defined"
     ]
    }
   ],
   "source": [
    "print(url)\n",
    "index = re.search(r'index=\\d+', url)\n",
    "res = requests.get(url)\n",
    "\n",
    "try:\n",
    "    res.raise_for_status() \n",
    "except requests.exceptions.RequestException:\n",
    "    print('Not Found Error in {}'.format(index.group())) #Not Foundエラーが出たらその回は終わったとみなす\n",
    "    #break\n",
    "\n",
    "soup = bs4.BeautifulSoup(res.text, \"html.parser\")\n",
    "elems = soup.select('.bb-calendarTable__status')\n",
    "elems2 = soup.select('.bb-calendarTable__venue')\n",
    "\n",
    "#print(elems)\n",
    "for elem,elem2 in zip(elems,elems2):\n",
    "    url = elem.get('href')\n",
    "    date = url[38:46]\n",
    "    venue = elem2.text\n",
    "    #print(venue)\n",
    "    game_yokohama.loc[len(game_yokohama)] = [url,date,venue]\n",
    "time.sleep(1)"
   ]
  }
 ]
}